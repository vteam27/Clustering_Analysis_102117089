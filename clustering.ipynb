{
  "cells": [
    {
      "cell_type": "code",
      "execution_count": 10,
      "metadata": {
        "id": "vov6jHxTQ48K"
      },
      "outputs": [],
      "source": [
        "import numpy as np\n",
        "import pandas as pd\n",
        "from sklearn.datasets import load_breast_cancer\n",
        "from sklearn.preprocessing import StandardScaler, MinMaxScaler\n",
        "from sklearn.decomposition import PCA\n",
        "from sklearn.cluster import KMeans\n",
        "from sklearn.mixture import GaussianMixture\n",
        "from sklearn.metrics import silhouette_score, calinski_harabasz_score, davies_bouldin_score\n",
        "from sklearn.cluster import AgglomerativeClustering\n",
        "from sklearn.cluster import SpectralClustering\n",
        "from tabulate import tabulate\n",
        "import warnings\n",
        "warnings.filterwarnings(\"ignore\")"
      ]
    },
    {
      "cell_type": "code",
      "execution_count": 2,
      "metadata": {
        "id": "-9avP1RIQ48L"
      },
      "outputs": [],
      "source": [
        "cancer = load_breast_cancer()\n",
        "X=cancer.data"
      ]
    },
    {
      "cell_type": "markdown",
      "metadata": {
        "id": "cPtDNcQYQ48L"
      },
      "source": [
        "## KMeans"
      ]
    },
    {
      "cell_type": "markdown",
      "metadata": {
        "id": "HzNif8hDQ48M"
      },
      "source": [
        "#### N = 3"
      ]
    },
    {
      "cell_type": "code",
      "execution_count": 3,
      "metadata": {
        "colab": {
          "base_uri": "https://localhost:8080/"
        },
        "id": "q97FdDsJQ48M",
        "outputId": "c1a62624-5346-41b1-9cdd-fc3c9cdcb66d"
      },
      "outputs": [
        {
          "output_type": "stream",
          "name": "stdout",
          "text": [
            "┏━━━━━━━━━━━━━━━━━━━━━━━━━━━━━━━━━┳━━━━━━━━━━━━━━━━━━━━┳━━━━━━━━━━━━━━━━━━━━━━━━━━━┳━━━━━━━━━━━━━━━━━━━━━━━━┓\n",
            "┃ Preprocessing Technique         ┃   Silhouette Score ┃   Calinski-Harabasz Score ┃   Davies-Bouldin Score ┃\n",
            "┣━━━━━━━━━━━━━━━━━━━━━━━━━━━━━━━━━╋━━━━━━━━━━━━━━━━━━━━╋━━━━━━━━━━━━━━━━━━━━━━━━━━━╋━━━━━━━━━━━━━━━━━━━━━━━━┫\n",
            "┃ No Preprocessing                ┃           0.675258 ┃                  1251.53  ┃               0.55185  ┃\n",
            "┣━━━━━━━━━━━━━━━━━━━━━━━━━━━━━━━━━╋━━━━━━━━━━━━━━━━━━━━╋━━━━━━━━━━━━━━━━━━━━━━━━━━━╋━━━━━━━━━━━━━━━━━━━━━━━━┫\n",
            "┃ Normalization                   ┃           0.330546 ┃                   253.174 ┃               1.45537  ┃\n",
            "┣━━━━━━━━━━━━━━━━━━━━━━━━━━━━━━━━━╋━━━━━━━━━━━━━━━━━━━━╋━━━━━━━━━━━━━━━━━━━━━━━━━━━╋━━━━━━━━━━━━━━━━━━━━━━━━┫\n",
            "┃ PCA                             ┃           0.659914 ┃                  1262.2   ┃               0.603631 ┃\n",
            "┣━━━━━━━━━━━━━━━━━━━━━━━━━━━━━━━━━╋━━━━━━━━━━━━━━━━━━━━╋━━━━━━━━━━━━━━━━━━━━━━━━━━━╋━━━━━━━━━━━━━━━━━━━━━━━━┫\n",
            "┃ Transform + Normalization       ┃           0.582437 ┃                   684.462 ┃               0.904159 ┃\n",
            "┣━━━━━━━━━━━━━━━━━━━━━━━━━━━━━━━━━╋━━━━━━━━━━━━━━━━━━━━╋━━━━━━━━━━━━━━━━━━━━━━━━━━━╋━━━━━━━━━━━━━━━━━━━━━━━━┫\n",
            "┃ Transform + Normalization + PCA ┃           0.479509 ┃                   563.753 ┃               0.930206 ┃\n",
            "┗━━━━━━━━━━━━━━━━━━━━━━━━━━━━━━━━━┻━━━━━━━━━━━━━━━━━━━━┻━━━━━━━━━━━━━━━━━━━━━━━━━━━┻━━━━━━━━━━━━━━━━━━━━━━━━┛\n"
          ]
        }
      ],
      "source": [
        "results_data = []\n",
        "\n",
        "# KMeans clustering with different preprocessing techniques\n",
        "preprocessing_techniques = {\n",
        "    \"No Preprocessing\": X,\n",
        "    \"Normalization\": MinMaxScaler().fit_transform(X),\n",
        "    \"PCA\": PCA(n_components=2).fit_transform(X),\n",
        "    \"Transform + Normalization\": MinMaxScaler().fit_transform(PCA(n_components=2).fit_transform(X)),\n",
        "    \"Transform + Normalization + PCA\": PCA(n_components=2).fit_transform(MinMaxScaler().fit_transform(X))\n",
        "}\n",
        "\n",
        "for technique, data in preprocessing_techniques.items():\n",
        "    # Perform KMeans clustering\n",
        "    clustering = KMeans(n_clusters=3, n_init='auto')\n",
        "    labels = clustering.fit_predict(data)\n",
        "\n",
        "    # Calculate evaluation metrics\n",
        "    silhouette = silhouette_score(data, labels)\n",
        "    calinski_harabasz = calinski_harabasz_score(data, labels)\n",
        "    davies_bouldin = davies_bouldin_score(data, labels)\n",
        "\n",
        "    # Append results to the list\n",
        "    results_data.append([technique, silhouette, calinski_harabasz, davies_bouldin])\n",
        "\n",
        "# Table headers\n",
        "headers = [\"Preprocessing Technique\", \"Silhouette Score\", \"Calinski-Harabasz Score\", \"Davies-Bouldin Score\"]\n",
        "\n",
        "# Display the table\n",
        "print(tabulate(results_data, headers=headers,tablefmt='heavy_grid'))"
      ]
    },
    {
      "cell_type": "markdown",
      "metadata": {
        "id": "BHGjmOtyQ48N"
      },
      "source": [
        "#### N = 4"
      ]
    },
    {
      "cell_type": "code",
      "execution_count": 4,
      "metadata": {
        "colab": {
          "base_uri": "https://localhost:8080/"
        },
        "id": "B5FN92YGQ48N",
        "outputId": "5f225256-74ab-4839-95dd-ef78981f866b"
      },
      "outputs": [
        {
          "output_type": "stream",
          "name": "stdout",
          "text": [
            "┏━━━━━━━━━━━━━━━━━━━━━━━━━━━━━━━━━┳━━━━━━━━━━━━━━━━━━━━┳━━━━━━━━━━━━━━━━━━━━━━━━━━━┳━━━━━━━━━━━━━━━━━━━━━━━━┓\n",
            "┃ Preprocessing Technique         ┃   Silhouette Score ┃   Calinski-Harabasz Score ┃   Davies-Bouldin Score ┃\n",
            "┣━━━━━━━━━━━━━━━━━━━━━━━━━━━━━━━━━╋━━━━━━━━━━━━━━━━━━━━╋━━━━━━━━━━━━━━━━━━━━━━━━━━━╋━━━━━━━━━━━━━━━━━━━━━━━━┫\n",
            "┃ No Preprocessing                ┃           0.543859 ┃                  1444.52  ┃               0.605756 ┃\n",
            "┣━━━━━━━━━━━━━━━━━━━━━━━━━━━━━━━━━╋━━━━━━━━━━━━━━━━━━━━╋━━━━━━━━━━━━━━━━━━━━━━━━━━━╋━━━━━━━━━━━━━━━━━━━━━━━━┫\n",
            "┃ Normalization                   ┃           0.152268 ┃                   200.321 ┃               1.80108  ┃\n",
            "┣━━━━━━━━━━━━━━━━━━━━━━━━━━━━━━━━━╋━━━━━━━━━━━━━━━━━━━━╋━━━━━━━━━━━━━━━━━━━━━━━━━━━╋━━━━━━━━━━━━━━━━━━━━━━━━┫\n",
            "┃ PCA                             ┃           0.546657 ┃                  1464.72  ┃               0.599408 ┃\n",
            "┣━━━━━━━━━━━━━━━━━━━━━━━━━━━━━━━━━╋━━━━━━━━━━━━━━━━━━━━╋━━━━━━━━━━━━━━━━━━━━━━━━━━━╋━━━━━━━━━━━━━━━━━━━━━━━━┫\n",
            "┃ Transform + Normalization       ┃           0.43926  ┃                   657.401 ┃               0.896115 ┃\n",
            "┣━━━━━━━━━━━━━━━━━━━━━━━━━━━━━━━━━╋━━━━━━━━━━━━━━━━━━━━╋━━━━━━━━━━━━━━━━━━━━━━━━━━━╋━━━━━━━━━━━━━━━━━━━━━━━━┫\n",
            "┃ Transform + Normalization + PCA ┃           0.389525 ┃                   504.598 ┃               0.885965 ┃\n",
            "┗━━━━━━━━━━━━━━━━━━━━━━━━━━━━━━━━━┻━━━━━━━━━━━━━━━━━━━━┻━━━━━━━━━━━━━━━━━━━━━━━━━━━┻━━━━━━━━━━━━━━━━━━━━━━━━┛\n"
          ]
        }
      ],
      "source": [
        "results_data = []\n",
        "\n",
        "# KMeans clustering with different preprocessing techniques\n",
        "preprocessing_techniques = {\n",
        "    \"No Preprocessing\": X,\n",
        "    \"Normalization\": MinMaxScaler().fit_transform(X),\n",
        "    \"PCA\": PCA(n_components=2).fit_transform(X),\n",
        "    \"Transform + Normalization\": MinMaxScaler().fit_transform(PCA(n_components=2).fit_transform(X)),\n",
        "    \"Transform + Normalization + PCA\": PCA(n_components=2).fit_transform(MinMaxScaler().fit_transform(X))\n",
        "}\n",
        "\n",
        "for technique, data in preprocessing_techniques.items():\n",
        "    # Perform KMeans clustering\n",
        "    clustering = KMeans(n_clusters=4, n_init='auto')\n",
        "    labels = clustering.fit_predict(data)\n",
        "\n",
        "    # Calculate evaluation metrics\n",
        "    silhouette = silhouette_score(data, labels)\n",
        "    calinski_harabasz = calinski_harabasz_score(data, labels)\n",
        "    davies_bouldin = davies_bouldin_score(data, labels)\n",
        "\n",
        "    # Append results to the list\n",
        "    results_data.append([technique, silhouette, calinski_harabasz, davies_bouldin])\n",
        "\n",
        "# Table headers\n",
        "headers = [\"Preprocessing Technique\", \"Silhouette Score\", \"Calinski-Harabasz Score\", \"Davies-Bouldin Score\"]\n",
        "\n",
        "# Display the table\n",
        "print(tabulate(results_data, headers=headers,tablefmt='heavy_grid'))"
      ]
    },
    {
      "cell_type": "markdown",
      "metadata": {
        "id": "bG_N1NqGQ48N"
      },
      "source": [
        "#### N = 5"
      ]
    },
    {
      "cell_type": "code",
      "execution_count": 5,
      "metadata": {
        "colab": {
          "base_uri": "https://localhost:8080/"
        },
        "id": "qrocBB9iQ48N",
        "outputId": "d2352141-36a4-4022-e507-1dd4340a3625"
      },
      "outputs": [
        {
          "output_type": "stream",
          "name": "stdout",
          "text": [
            "┏━━━━━━━━━━━━━━━━━━━━━━━━━━━━━━━━━┳━━━━━━━━━━━━━━━━━━━━┳━━━━━━━━━━━━━━━━━━━━━━━━━━━┳━━━━━━━━━━━━━━━━━━━━━━━━┓\n",
            "┃ Preprocessing Technique         ┃   Silhouette Score ┃   Calinski-Harabasz Score ┃   Davies-Bouldin Score ┃\n",
            "┣━━━━━━━━━━━━━━━━━━━━━━━━━━━━━━━━━╋━━━━━━━━━━━━━━━━━━━━╋━━━━━━━━━━━━━━━━━━━━━━━━━━━╋━━━━━━━━━━━━━━━━━━━━━━━━┫\n",
            "┃ No Preprocessing                ┃           0.51571  ┃                  1604.84  ┃               0.643389 ┃\n",
            "┣━━━━━━━━━━━━━━━━━━━━━━━━━━━━━━━━━╋━━━━━━━━━━━━━━━━━━━━╋━━━━━━━━━━━━━━━━━━━━━━━━━━━╋━━━━━━━━━━━━━━━━━━━━━━━━┫\n",
            "┃ Normalization                   ┃           0.169664 ┃                   173.215 ┃               1.65202  ┃\n",
            "┣━━━━━━━━━━━━━━━━━━━━━━━━━━━━━━━━━╋━━━━━━━━━━━━━━━━━━━━╋━━━━━━━━━━━━━━━━━━━━━━━━━━━╋━━━━━━━━━━━━━━━━━━━━━━━━┫\n",
            "┃ PCA                             ┃           0.519798 ┃                  1635.56  ┃               0.635832 ┃\n",
            "┣━━━━━━━━━━━━━━━━━━━━━━━━━━━━━━━━━╋━━━━━━━━━━━━━━━━━━━━╋━━━━━━━━━━━━━━━━━━━━━━━━━━━╋━━━━━━━━━━━━━━━━━━━━━━━━┫\n",
            "┃ Transform + Normalization       ┃           0.418678 ┃                   590.615 ┃               0.978815 ┃\n",
            "┣━━━━━━━━━━━━━━━━━━━━━━━━━━━━━━━━━╋━━━━━━━━━━━━━━━━━━━━╋━━━━━━━━━━━━━━━━━━━━━━━━━━━╋━━━━━━━━━━━━━━━━━━━━━━━━┫\n",
            "┃ Transform + Normalization + PCA ┃           0.33379  ┃                   483.35  ┃               0.936932 ┃\n",
            "┗━━━━━━━━━━━━━━━━━━━━━━━━━━━━━━━━━┻━━━━━━━━━━━━━━━━━━━━┻━━━━━━━━━━━━━━━━━━━━━━━━━━━┻━━━━━━━━━━━━━━━━━━━━━━━━┛\n"
          ]
        }
      ],
      "source": [
        "results_data = []\n",
        "\n",
        "# KMeans clustering with different preprocessing techniques\n",
        "preprocessing_techniques = {\n",
        "    \"No Preprocessing\": X,\n",
        "    \"Normalization\": MinMaxScaler().fit_transform(X),\n",
        "    \"PCA\": PCA(n_components=2).fit_transform(X),\n",
        "    \"Transform + Normalization\": MinMaxScaler().fit_transform(PCA(n_components=2).fit_transform(X)),\n",
        "    \"Transform + Normalization + PCA\": PCA(n_components=2).fit_transform(MinMaxScaler().fit_transform(X))\n",
        "}\n",
        "\n",
        "for technique, data in preprocessing_techniques.items():\n",
        "    # Perform KMeans clustering\n",
        "    clustering = KMeans(n_clusters=5, n_init='auto')\n",
        "    labels = clustering.fit_predict(data)\n",
        "\n",
        "    # Calculate evaluation metrics\n",
        "    silhouette = silhouette_score(data, labels)\n",
        "    calinski_harabasz = calinski_harabasz_score(data, labels)\n",
        "    davies_bouldin = davies_bouldin_score(data, labels)\n",
        "\n",
        "    # Append results to the list\n",
        "    results_data.append([technique, silhouette, calinski_harabasz, davies_bouldin])\n",
        "\n",
        "# Table headers\n",
        "headers = [\"Preprocessing Technique\", \"Silhouette Score\", \"Calinski-Harabasz Score\", \"Davies-Bouldin Score\"]\n",
        "\n",
        "# Display the table\n",
        "print(tabulate(results_data, headers=headers,tablefmt='heavy_grid'))"
      ]
    },
    {
      "cell_type": "markdown",
      "metadata": {
        "id": "8TbzTyOeQ48O"
      },
      "source": [
        "## Hierarchial Clustering"
      ]
    },
    {
      "cell_type": "markdown",
      "metadata": {
        "id": "Cz1kpCuMQ48O"
      },
      "source": [
        "#### N = 3"
      ]
    },
    {
      "cell_type": "code",
      "execution_count": 6,
      "metadata": {
        "colab": {
          "base_uri": "https://localhost:8080/"
        },
        "id": "bkZVPMYvQ48O",
        "outputId": "bb4b2ad7-c8e0-4845-abbb-fc8f811c2461"
      },
      "outputs": [
        {
          "output_type": "stream",
          "name": "stdout",
          "text": [
            "┏━━━━━━━━━━━━━━━━━━━━━━━━━━━━━━━━━┳━━━━━━━━━━━━━━━━━━━━┳━━━━━━━━━━━━━━━━━━━━━━━━━━━┳━━━━━━━━━━━━━━━━━━━━━━━━┓\n",
            "┃ Preprocessing Technique         ┃   Silhouette Score ┃   Calinski-Harabasz Score ┃   Davies-Bouldin Score ┃\n",
            "┣━━━━━━━━━━━━━━━━━━━━━━━━━━━━━━━━━╋━━━━━━━━━━━━━━━━━━━━╋━━━━━━━━━━━━━━━━━━━━━━━━━━━╋━━━━━━━━━━━━━━━━━━━━━━━━┫\n",
            "┃ No Preprocessing                ┃           0.508254 ┃                  1089.93  ┃               0.631429 ┃\n",
            "┣━━━━━━━━━━━━━━━━━━━━━━━━━━━━━━━━━╋━━━━━━━━━━━━━━━━━━━━╋━━━━━━━━━━━━━━━━━━━━━━━━━━━╋━━━━━━━━━━━━━━━━━━━━━━━━┫\n",
            "┃ Normalization                   ┃           0.335346 ┃                   235.843 ┃               1.46615  ┃\n",
            "┣━━━━━━━━━━━━━━━━━━━━━━━━━━━━━━━━━╋━━━━━━━━━━━━━━━━━━━━╋━━━━━━━━━━━━━━━━━━━━━━━━━━━╋━━━━━━━━━━━━━━━━━━━━━━━━┫\n",
            "┃ PCA                             ┃           0.518864 ┃                  1089.94  ┃               0.615082 ┃\n",
            "┣━━━━━━━━━━━━━━━━━━━━━━━━━━━━━━━━━╋━━━━━━━━━━━━━━━━━━━━╋━━━━━━━━━━━━━━━━━━━━━━━━━━━╋━━━━━━━━━━━━━━━━━━━━━━━━┫\n",
            "┃ Transform + Normalization       ┃           0.567284 ┃                   609.533 ┃               0.944843 ┃\n",
            "┣━━━━━━━━━━━━━━━━━━━━━━━━━━━━━━━━━╋━━━━━━━━━━━━━━━━━━━━╋━━━━━━━━━━━━━━━━━━━━━━━━━━━╋━━━━━━━━━━━━━━━━━━━━━━━━┫\n",
            "┃ Transform + Normalization + PCA ┃           0.43179  ┃                   512.223 ┃               1.058    ┃\n",
            "┗━━━━━━━━━━━━━━━━━━━━━━━━━━━━━━━━━┻━━━━━━━━━━━━━━━━━━━━┻━━━━━━━━━━━━━━━━━━━━━━━━━━━┻━━━━━━━━━━━━━━━━━━━━━━━━┛\n"
          ]
        }
      ],
      "source": [
        "results_data = []\n",
        "\n",
        "preprocessing_techniques = {\n",
        "    \"No Preprocessing\": X,\n",
        "    \"Normalization\": MinMaxScaler().fit_transform(X),\n",
        "    \"PCA\": PCA(n_components=2).fit_transform(X),\n",
        "    \"Transform + Normalization\": MinMaxScaler().fit_transform(PCA(n_components=2).fit_transform(X)),\n",
        "    \"Transform + Normalization + PCA\": PCA(n_components=2).fit_transform(MinMaxScaler().fit_transform(X))\n",
        "}\n",
        "\n",
        "for technique, data in preprocessing_techniques.items():\n",
        "\n",
        "    clustering = AgglomerativeClustering(n_clusters=3)\n",
        "    labels = clustering.fit_predict(data)\n",
        "\n",
        "    # Calculate evaluation metrics\n",
        "    silhouette = silhouette_score(data, labels)\n",
        "    calinski_harabasz = calinski_harabasz_score(data, labels)\n",
        "    davies_bouldin = davies_bouldin_score(data, labels)\n",
        "\n",
        "    # Append results to the list\n",
        "    results_data.append([technique, silhouette, calinski_harabasz, davies_bouldin])\n",
        "\n",
        "# Table headers\n",
        "headers = [\"Preprocessing Technique\", \"Silhouette Score\", \"Calinski-Harabasz Score\", \"Davies-Bouldin Score\"]\n",
        "\n",
        "# Display the table\n",
        "print(tabulate(results_data, headers=headers,tablefmt='heavy_grid'))"
      ]
    },
    {
      "cell_type": "markdown",
      "metadata": {
        "id": "IpJVICyuQ48O"
      },
      "source": [
        "#### N = 4"
      ]
    },
    {
      "cell_type": "code",
      "execution_count": 7,
      "metadata": {
        "colab": {
          "base_uri": "https://localhost:8080/"
        },
        "id": "BvNqYdk1Q48P",
        "outputId": "a5b46fb5-f42d-4c01-bc45-2579c5b26b5e"
      },
      "outputs": [
        {
          "output_type": "stream",
          "name": "stdout",
          "text": [
            "┏━━━━━━━━━━━━━━━━━━━━━━━━━━━━━━━━━┳━━━━━━━━━━━━━━━━━━━━┳━━━━━━━━━━━━━━━━━━━━━━━━━━━┳━━━━━━━━━━━━━━━━━━━━━━━━┓\n",
            "┃ Preprocessing Technique         ┃   Silhouette Score ┃   Calinski-Harabasz Score ┃   Davies-Bouldin Score ┃\n",
            "┣━━━━━━━━━━━━━━━━━━━━━━━━━━━━━━━━━╋━━━━━━━━━━━━━━━━━━━━╋━━━━━━━━━━━━━━━━━━━━━━━━━━━╋━━━━━━━━━━━━━━━━━━━━━━━━┫\n",
            "┃ No Preprocessing                ┃           0.509003 ┃                  1245.57  ┃               0.609063 ┃\n",
            "┣━━━━━━━━━━━━━━━━━━━━━━━━━━━━━━━━━╋━━━━━━━━━━━━━━━━━━━━╋━━━━━━━━━━━━━━━━━━━━━━━━━━━╋━━━━━━━━━━━━━━━━━━━━━━━━┫\n",
            "┃ Normalization                   ┃           0.136605 ┃                   185.186 ┃               1.91465  ┃\n",
            "┣━━━━━━━━━━━━━━━━━━━━━━━━━━━━━━━━━╋━━━━━━━━━━━━━━━━━━━━╋━━━━━━━━━━━━━━━━━━━━━━━━━━━╋━━━━━━━━━━━━━━━━━━━━━━━━┫\n",
            "┃ PCA                             ┃           0.52739  ┃                  1369.42  ┃               0.586194 ┃\n",
            "┣━━━━━━━━━━━━━━━━━━━━━━━━━━━━━━━━━╋━━━━━━━━━━━━━━━━━━━━╋━━━━━━━━━━━━━━━━━━━━━━━━━━━╋━━━━━━━━━━━━━━━━━━━━━━━━┫\n",
            "┃ Transform + Normalization       ┃           0.352373 ┃                   557.825 ┃               0.988597 ┃\n",
            "┣━━━━━━━━━━━━━━━━━━━━━━━━━━━━━━━━━╋━━━━━━━━━━━━━━━━━━━━╋━━━━━━━━━━━━━━━━━━━━━━━━━━━╋━━━━━━━━━━━━━━━━━━━━━━━━┫\n",
            "┃ Transform + Normalization + PCA ┃           0.329731 ┃                   448.899 ┃               0.929939 ┃\n",
            "┗━━━━━━━━━━━━━━━━━━━━━━━━━━━━━━━━━┻━━━━━━━━━━━━━━━━━━━━┻━━━━━━━━━━━━━━━━━━━━━━━━━━━┻━━━━━━━━━━━━━━━━━━━━━━━━┛\n"
          ]
        }
      ],
      "source": [
        "results_data = []\n",
        "\n",
        "# Hierarchical Clustering with different preprocessing techniques\n",
        "preprocessing_techniques = {\n",
        "    \"No Preprocessing\": X,\n",
        "    \"Normalization\": MinMaxScaler().fit_transform(X),\n",
        "    \"PCA\": PCA(n_components=2).fit_transform(X),\n",
        "    \"Transform + Normalization\": MinMaxScaler().fit_transform(PCA(n_components=2).fit_transform(X)),\n",
        "    \"Transform + Normalization + PCA\": PCA(n_components=2).fit_transform(MinMaxScaler().fit_transform(X))\n",
        "}\n",
        "\n",
        "for technique, data in preprocessing_techniques.items():\n",
        "    # Perform hierarchical clustering\n",
        "    clustering = AgglomerativeClustering(n_clusters=4)\n",
        "    labels = clustering.fit_predict(data)\n",
        "\n",
        "    # Calculate evaluation metrics\n",
        "    silhouette = silhouette_score(data, labels)\n",
        "    calinski_harabasz = calinski_harabasz_score(data, labels)\n",
        "    davies_bouldin = davies_bouldin_score(data, labels)\n",
        "\n",
        "    # Append results to the list\n",
        "    results_data.append([technique, silhouette, calinski_harabasz, davies_bouldin])\n",
        "\n",
        "# Table headers\n",
        "headers = [\"Preprocessing Technique\", \"Silhouette Score\", \"Calinski-Harabasz Score\", \"Davies-Bouldin Score\"]\n",
        "\n",
        "# Display the table\n",
        "print(tabulate(results_data, headers=headers,tablefmt='heavy_grid'))"
      ]
    },
    {
      "cell_type": "markdown",
      "metadata": {
        "id": "z4TzM88YQ48P"
      },
      "source": [
        "#### N = 5"
      ]
    },
    {
      "cell_type": "code",
      "execution_count": 8,
      "metadata": {
        "colab": {
          "base_uri": "https://localhost:8080/"
        },
        "id": "lHRbS3k5Q48P",
        "outputId": "57d1c174-a32a-4690-bdc5-00e57244db24"
      },
      "outputs": [
        {
          "output_type": "stream",
          "name": "stdout",
          "text": [
            "┏━━━━━━━━━━━━━━━━━━━━━━━━━━━━━━━━━┳━━━━━━━━━━━━━━━━━━━━┳━━━━━━━━━━━━━━━━━━━━━━━━━━━┳━━━━━━━━━━━━━━━━━━━━━━━━┓\n",
            "┃ Preprocessing Technique         ┃   Silhouette Score ┃   Calinski-Harabasz Score ┃   Davies-Bouldin Score ┃\n",
            "┣━━━━━━━━━━━━━━━━━━━━━━━━━━━━━━━━━╋━━━━━━━━━━━━━━━━━━━━╋━━━━━━━━━━━━━━━━━━━━━━━━━━━╋━━━━━━━━━━━━━━━━━━━━━━━━┫\n",
            "┃ No Preprocessing                ┃           0.511445 ┃                  1541.86  ┃               0.611407 ┃\n",
            "┣━━━━━━━━━━━━━━━━━━━━━━━━━━━━━━━━━╋━━━━━━━━━━━━━━━━━━━━╋━━━━━━━━━━━━━━━━━━━━━━━━━━━╋━━━━━━━━━━━━━━━━━━━━━━━━┫\n",
            "┃ Normalization                   ┃           0.128007 ┃                   158.21  ┃               1.85584  ┃\n",
            "┣━━━━━━━━━━━━━━━━━━━━━━━━━━━━━━━━━╋━━━━━━━━━━━━━━━━━━━━╋━━━━━━━━━━━━━━━━━━━━━━━━━━━╋━━━━━━━━━━━━━━━━━━━━━━━━┫\n",
            "┃ PCA                             ┃           0.478405 ┃                  1421.91  ┃               0.592308 ┃\n",
            "┣━━━━━━━━━━━━━━━━━━━━━━━━━━━━━━━━━╋━━━━━━━━━━━━━━━━━━━━╋━━━━━━━━━━━━━━━━━━━━━━━━━━━╋━━━━━━━━━━━━━━━━━━━━━━━━┫\n",
            "┃ Transform + Normalization       ┃           0.358728 ┃                   528.556 ┃               0.920272 ┃\n",
            "┣━━━━━━━━━━━━━━━━━━━━━━━━━━━━━━━━━╋━━━━━━━━━━━━━━━━━━━━╋━━━━━━━━━━━━━━━━━━━━━━━━━━━╋━━━━━━━━━━━━━━━━━━━━━━━━┫\n",
            "┃ Transform + Normalization + PCA ┃           0.34588  ┃                   419.617 ┃               0.882471 ┃\n",
            "┗━━━━━━━━━━━━━━━━━━━━━━━━━━━━━━━━━┻━━━━━━━━━━━━━━━━━━━━┻━━━━━━━━━━━━━━━━━━━━━━━━━━━┻━━━━━━━━━━━━━━━━━━━━━━━━┛\n"
          ]
        }
      ],
      "source": [
        "results_data = []\n",
        "\n",
        "# Hierarchical Clustering with different preprocessing techniques\n",
        "preprocessing_techniques = {\n",
        "    \"No Preprocessing\": X,\n",
        "    \"Normalization\": MinMaxScaler().fit_transform(X),\n",
        "    \"PCA\": PCA(n_components=2).fit_transform(X),\n",
        "    \"Transform + Normalization\": MinMaxScaler().fit_transform(PCA(n_components=2).fit_transform(X)),\n",
        "    \"Transform + Normalization + PCA\": PCA(n_components=2).fit_transform(MinMaxScaler().fit_transform(X))\n",
        "}\n",
        "\n",
        "for technique, data in preprocessing_techniques.items():\n",
        "    # Perform hierarchical clustering\n",
        "    clustering = AgglomerativeClustering(n_clusters=5)\n",
        "    labels = clustering.fit_predict(data)\n",
        "\n",
        "    # Calculate evaluation metrics\n",
        "    silhouette = silhouette_score(data, labels)\n",
        "    calinski_harabasz = calinski_harabasz_score(data, labels)\n",
        "    davies_bouldin = davies_bouldin_score(data, labels)\n",
        "\n",
        "    # Append results to the list\n",
        "    results_data.append([technique, silhouette, calinski_harabasz, davies_bouldin])\n",
        "\n",
        "# Table headers\n",
        "headers = [\"Preprocessing Technique\", \"Silhouette Score\", \"Calinski-Harabasz Score\", \"Davies-Bouldin Score\"]\n",
        "\n",
        "# Display the table\n",
        "print(tabulate(results_data, headers=headers,tablefmt='heavy_grid'))"
      ]
    },
    {
      "cell_type": "markdown",
      "metadata": {
        "id": "346enGmOQ48R"
      },
      "source": [
        "## Spectral Clustering"
      ]
    },
    {
      "cell_type": "markdown",
      "metadata": {
        "id": "Yydnsde_Q48R"
      },
      "source": [
        "#### N = 3"
      ]
    },
    {
      "cell_type": "code",
      "execution_count": 11,
      "metadata": {
        "colab": {
          "base_uri": "https://localhost:8080/"
        },
        "id": "_22fO-1SQ48R",
        "outputId": "38bc8033-6911-4832-afc4-acf453967eb9"
      },
      "outputs": [
        {
          "output_type": "stream",
          "name": "stdout",
          "text": [
            "┏━━━━━━━━━━━━━━━━━━━━━━━━━━━━━━━━━┳━━━━━━━━━━━━━━━━━━━━┳━━━━━━━━━━━━━━━━━━━━━━━━━━━┳━━━━━━━━━━━━━━━━━━━━━━━━┓\n",
            "┃ Preprocessing Technique         ┃   Silhouette Score ┃   Calinski-Harabasz Score ┃   Davies-Bouldin Score ┃\n",
            "┣━━━━━━━━━━━━━━━━━━━━━━━━━━━━━━━━━╋━━━━━━━━━━━━━━━━━━━━╋━━━━━━━━━━━━━━━━━━━━━━━━━━━╋━━━━━━━━━━━━━━━━━━━━━━━━┫\n",
            "┃ No Preprocessing                ┃           0.517158 ┃                   771.414 ┃               0.641682 ┃\n",
            "┣━━━━━━━━━━━━━━━━━━━━━━━━━━━━━━━━━╋━━━━━━━━━━━━━━━━━━━━╋━━━━━━━━━━━━━━━━━━━━━━━━━━━╋━━━━━━━━━━━━━━━━━━━━━━━━┫\n",
            "┃ Normalization                   ┃           0.308106 ┃                   230.161 ┃               1.5942   ┃\n",
            "┣━━━━━━━━━━━━━━━━━━━━━━━━━━━━━━━━━╋━━━━━━━━━━━━━━━━━━━━╋━━━━━━━━━━━━━━━━━━━━━━━━━━━╋━━━━━━━━━━━━━━━━━━━━━━━━┫\n",
            "┃ PCA                             ┃           0.490939 ┃                   757.978 ┃               0.776605 ┃\n",
            "┣━━━━━━━━━━━━━━━━━━━━━━━━━━━━━━━━━╋━━━━━━━━━━━━━━━━━━━━╋━━━━━━━━━━━━━━━━━━━━━━━━━━━╋━━━━━━━━━━━━━━━━━━━━━━━━┫\n",
            "┃ Transform + Normalization       ┃           0.495011 ┃                   504.523 ┃               0.952186 ┃\n",
            "┣━━━━━━━━━━━━━━━━━━━━━━━━━━━━━━━━━╋━━━━━━━━━━━━━━━━━━━━╋━━━━━━━━━━━━━━━━━━━━━━━━━━━╋━━━━━━━━━━━━━━━━━━━━━━━━┫\n",
            "┃ Transform + Normalization + PCA ┃           0.497564 ┃                   535.211 ┃               0.958248 ┃\n",
            "┗━━━━━━━━━━━━━━━━━━━━━━━━━━━━━━━━━┻━━━━━━━━━━━━━━━━━━━━┻━━━━━━━━━━━━━━━━━━━━━━━━━━━┻━━━━━━━━━━━━━━━━━━━━━━━━┛\n"
          ]
        }
      ],
      "source": [
        "from sklearn.mixture import GaussianMixture\n",
        "from sklearn.metrics import silhouette_score, calinski_harabasz_score, davies_bouldin_score\n",
        "from sklearn.preprocessing import MinMaxScaler\n",
        "from sklearn.decomposition import PCA\n",
        "from tabulate import tabulate\n",
        "\n",
        "results_data = []\n",
        "\n",
        "preprocessing_techniques = {\n",
        "    \"No Preprocessing\": X,\n",
        "    \"Normalization\": MinMaxScaler().fit_transform(X),\n",
        "    \"PCA\": PCA(n_components=2).fit_transform(X),\n",
        "    \"Transform + Normalization\": MinMaxScaler().fit_transform(PCA(n_components=2).fit_transform(X)),\n",
        "    \"Transform + Normalization + PCA\": PCA(n_components=2).fit_transform(MinMaxScaler().fit_transform(X))\n",
        "}\n",
        "\n",
        "# Specify the number of clusters\n",
        "n_clusters = 3\n",
        "\n",
        "for technique, data in preprocessing_techniques.items():\n",
        "    # Perform Gaussian Mixture Models clustering\n",
        "    gmm = GaussianMixture(n_components=n_clusters)\n",
        "    labels = gmm.fit_predict(data)\n",
        "\n",
        "    # Calculate evaluation metrics\n",
        "    silhouette = silhouette_score(data, labels)\n",
        "    calinski_harabasz = calinski_harabasz_score(data, labels)\n",
        "    davies_bouldin = davies_bouldin_score(data, labels)\n",
        "\n",
        "    # Append results to the list\n",
        "    results_data.append([technique, silhouette, calinski_harabasz, davies_bouldin])\n",
        "\n",
        "# Table headers\n",
        "headers = [\"Preprocessing Technique\", \"Silhouette Score\", \"Calinski-Harabasz Score\", \"Davies-Bouldin Score\"]\n",
        "\n",
        "# Display the table\n",
        "print(tabulate(results_data, headers=headers, tablefmt='heavy_grid'))\n"
      ]
    },
    {
      "cell_type": "markdown",
      "metadata": {
        "id": "zRSroo0BQ48S"
      },
      "source": [
        "#### N = 4"
      ]
    },
    {
      "cell_type": "code",
      "execution_count": 13,
      "metadata": {
        "colab": {
          "base_uri": "https://localhost:8080/"
        },
        "id": "-u130NpzQ48S",
        "outputId": "e7332d4d-d304-424b-89fc-7baf17b6e9c8"
      },
      "outputs": [
        {
          "output_type": "stream",
          "name": "stdout",
          "text": [
            "┏━━━━━━━━━━━━━━━━━━━━━━━━━━━━━━━━━┳━━━━━━━━━━━━━━━━━━━━┳━━━━━━━━━━━━━━━━━━━━━━━━━━━┳━━━━━━━━━━━━━━━━━━━━━━━━┓\n",
            "┃ Preprocessing Technique         ┃   Silhouette Score ┃   Calinski-Harabasz Score ┃   Davies-Bouldin Score ┃\n",
            "┣━━━━━━━━━━━━━━━━━━━━━━━━━━━━━━━━━╋━━━━━━━━━━━━━━━━━━━━╋━━━━━━━━━━━━━━━━━━━━━━━━━━━╋━━━━━━━━━━━━━━━━━━━━━━━━┫\n",
            "┃ No Preprocessing                ┃           0.496918 ┃                  1386.58  ┃               0.634767 ┃\n",
            "┣━━━━━━━━━━━━━━━━━━━━━━━━━━━━━━━━━╋━━━━━━━━━━━━━━━━━━━━╋━━━━━━━━━━━━━━━━━━━━━━━━━━━╋━━━━━━━━━━━━━━━━━━━━━━━━┫\n",
            "┃ Normalization                   ┃           0.294796 ┃                   188.707 ┃               1.44973  ┃\n",
            "┣━━━━━━━━━━━━━━━━━━━━━━━━━━━━━━━━━╋━━━━━━━━━━━━━━━━━━━━╋━━━━━━━━━━━━━━━━━━━━━━━━━━━╋━━━━━━━━━━━━━━━━━━━━━━━━┫\n",
            "┃ PCA                             ┃           0.456981 ┃                  1097.52  ┃               0.747762 ┃\n",
            "┣━━━━━━━━━━━━━━━━━━━━━━━━━━━━━━━━━╋━━━━━━━━━━━━━━━━━━━━╋━━━━━━━━━━━━━━━━━━━━━━━━━━━╋━━━━━━━━━━━━━━━━━━━━━━━━┫\n",
            "┃ Transform + Normalization       ┃           0.357272 ┃                   534.386 ┃               1.06065  ┃\n",
            "┣━━━━━━━━━━━━━━━━━━━━━━━━━━━━━━━━━╋━━━━━━━━━━━━━━━━━━━━╋━━━━━━━━━━━━━━━━━━━━━━━━━━━╋━━━━━━━━━━━━━━━━━━━━━━━━┫\n",
            "┃ Transform + Normalization + PCA ┃           0.340013 ┃                   444.325 ┃               0.985035 ┃\n",
            "┗━━━━━━━━━━━━━━━━━━━━━━━━━━━━━━━━━┻━━━━━━━━━━━━━━━━━━━━┻━━━━━━━━━━━━━━━━━━━━━━━━━━━┻━━━━━━━━━━━━━━━━━━━━━━━━┛\n"
          ]
        }
      ],
      "source": [
        "from sklearn.mixture import GaussianMixture\n",
        "from sklearn.metrics import silhouette_score, calinski_harabasz_score, davies_bouldin_score\n",
        "from sklearn.preprocessing import MinMaxScaler\n",
        "from sklearn.decomposition import PCA\n",
        "from tabulate import tabulate\n",
        "\n",
        "results_data = []\n",
        "\n",
        "preprocessing_techniques = {\n",
        "    \"No Preprocessing\": X,\n",
        "    \"Normalization\": MinMaxScaler().fit_transform(X),\n",
        "    \"PCA\": PCA(n_components=2).fit_transform(X),\n",
        "    \"Transform + Normalization\": MinMaxScaler().fit_transform(PCA(n_components=2).fit_transform(X)),\n",
        "    \"Transform + Normalization + PCA\": PCA(n_components=2).fit_transform(MinMaxScaler().fit_transform(X))\n",
        "}\n",
        "\n",
        "# Specify the number of clusters\n",
        "n_clusters = 4\n",
        "\n",
        "for technique, data in preprocessing_techniques.items():\n",
        "    # Perform Gaussian Mixture Models clustering\n",
        "    gmm = GaussianMixture(n_components=n_clusters)\n",
        "    labels = gmm.fit_predict(data)\n",
        "\n",
        "    # Calculate evaluation metrics\n",
        "    silhouette = silhouette_score(data, labels)\n",
        "    calinski_harabasz = calinski_harabasz_score(data, labels)\n",
        "    davies_bouldin = davies_bouldin_score(data, labels)\n",
        "\n",
        "    # Append results to the list\n",
        "    results_data.append([technique, silhouette, calinski_harabasz, davies_bouldin])\n",
        "\n",
        "# Table headers\n",
        "headers = [\"Preprocessing Technique\", \"Silhouette Score\", \"Calinski-Harabasz Score\", \"Davies-Bouldin Score\"]\n",
        "\n",
        "# Display the table\n",
        "print(tabulate(results_data, headers=headers, tablefmt='heavy_grid'))\n"
      ]
    },
    {
      "cell_type": "markdown",
      "metadata": {
        "id": "JkN7I0zQQ48S"
      },
      "source": [
        "#### N = 5"
      ]
    },
    {
      "cell_type": "code",
      "execution_count": 14,
      "metadata": {
        "colab": {
          "base_uri": "https://localhost:8080/"
        },
        "id": "DUlquDTcQ48S",
        "outputId": "ba7be8d3-c08b-4948-e2db-ce297b902a5b"
      },
      "outputs": [
        {
          "output_type": "stream",
          "name": "stdout",
          "text": [
            "┏━━━━━━━━━━━━━━━━━━━━━━━━━━━━━━━━━┳━━━━━━━━━━━━━━━━━━━━┳━━━━━━━━━━━━━━━━━━━━━━━━━━━┳━━━━━━━━━━━━━━━━━━━━━━━━┓\n",
            "┃ Preprocessing Technique         ┃   Silhouette Score ┃   Calinski-Harabasz Score ┃   Davies-Bouldin Score ┃\n",
            "┣━━━━━━━━━━━━━━━━━━━━━━━━━━━━━━━━━╋━━━━━━━━━━━━━━━━━━━━╋━━━━━━━━━━━━━━━━━━━━━━━━━━━╋━━━━━━━━━━━━━━━━━━━━━━━━┫\n",
            "┃ No Preprocessing                ┃           0.430748 ┃                  1457.25  ┃               0.655471 ┃\n",
            "┣━━━━━━━━━━━━━━━━━━━━━━━━━━━━━━━━━╋━━━━━━━━━━━━━━━━━━━━╋━━━━━━━━━━━━━━━━━━━━━━━━━━━╋━━━━━━━━━━━━━━━━━━━━━━━━┫\n",
            "┃ Normalization                   ┃           0.139274 ┃                   162.504 ┃               1.83887  ┃\n",
            "┣━━━━━━━━━━━━━━━━━━━━━━━━━━━━━━━━━╋━━━━━━━━━━━━━━━━━━━━╋━━━━━━━━━━━━━━━━━━━━━━━━━━━╋━━━━━━━━━━━━━━━━━━━━━━━━┫\n",
            "┃ PCA                             ┃           0.399896 ┃                  1128.7   ┃               0.748835 ┃\n",
            "┣━━━━━━━━━━━━━━━━━━━━━━━━━━━━━━━━━╋━━━━━━━━━━━━━━━━━━━━╋━━━━━━━━━━━━━━━━━━━━━━━━━━━╋━━━━━━━━━━━━━━━━━━━━━━━━┫\n",
            "┃ Transform + Normalization       ┃           0.377637 ┃                   514.364 ┃               0.905274 ┃\n",
            "┣━━━━━━━━━━━━━━━━━━━━━━━━━━━━━━━━━╋━━━━━━━━━━━━━━━━━━━━╋━━━━━━━━━━━━━━━━━━━━━━━━━━━╋━━━━━━━━━━━━━━━━━━━━━━━━┫\n",
            "┃ Transform + Normalization + PCA ┃           0.328945 ┃                   452.746 ┃               1.01879  ┃\n",
            "┗━━━━━━━━━━━━━━━━━━━━━━━━━━━━━━━━━┻━━━━━━━━━━━━━━━━━━━━┻━━━━━━━━━━━━━━━━━━━━━━━━━━━┻━━━━━━━━━━━━━━━━━━━━━━━━┛\n"
          ]
        }
      ],
      "source": [
        "from sklearn.mixture import GaussianMixture\n",
        "from sklearn.metrics import silhouette_score, calinski_harabasz_score, davies_bouldin_score\n",
        "from sklearn.preprocessing import MinMaxScaler\n",
        "from sklearn.decomposition import PCA\n",
        "from tabulate import tabulate\n",
        "\n",
        "results_data = []\n",
        "\n",
        "preprocessing_techniques = {\n",
        "    \"No Preprocessing\": X,\n",
        "    \"Normalization\": MinMaxScaler().fit_transform(X),\n",
        "    \"PCA\": PCA(n_components=2).fit_transform(X),\n",
        "    \"Transform + Normalization\": MinMaxScaler().fit_transform(PCA(n_components=2).fit_transform(X)),\n",
        "    \"Transform + Normalization + PCA\": PCA(n_components=2).fit_transform(MinMaxScaler().fit_transform(X))\n",
        "}\n",
        "\n",
        "# Specify the number of clusters\n",
        "n_clusters = 5\n",
        "\n",
        "for technique, data in preprocessing_techniques.items():\n",
        "    # Perform Gaussian Mixture Models clustering\n",
        "    gmm = GaussianMixture(n_components=n_clusters)\n",
        "    labels = gmm.fit_predict(data)\n",
        "\n",
        "    # Calculate evaluation metrics\n",
        "    silhouette = silhouette_score(data, labels)\n",
        "    calinski_harabasz = calinski_harabasz_score(data, labels)\n",
        "    davies_bouldin = davies_bouldin_score(data, labels)\n",
        "\n",
        "    # Append results to the list\n",
        "    results_data.append([technique, silhouette, calinski_harabasz, davies_bouldin])\n",
        "\n",
        "# Table headers\n",
        "headers = [\"Preprocessing Technique\", \"Silhouette Score\", \"Calinski-Harabasz Score\", \"Davies-Bouldin Score\"]\n",
        "\n",
        "# Display the table\n",
        "print(tabulate(results_data, headers=headers, tablefmt='heavy_grid'))"
      ]
    }
  ],
  "metadata": {
    "colab": {
      "provenance": []
    },
    "kernelspec": {
      "display_name": "ai",
      "language": "python",
      "name": "python3"
    },
    "language_info": {
      "codemirror_mode": {
        "name": "ipython",
        "version": 3
      },
      "file_extension": ".py",
      "mimetype": "text/x-python",
      "name": "python",
      "nbconvert_exporter": "python",
      "pygments_lexer": "ipython3",
      "version": "3.9.12"
    }
  },
  "nbformat": 4,
  "nbformat_minor": 0
}